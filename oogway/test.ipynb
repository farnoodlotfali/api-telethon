{
 "cells": [
  {
   "cell_type": "code",
   "execution_count": 246,
   "metadata": {},
   "outputs": [],
   "source": [
    "import re\n",
    "from itertools import groupby\n",
    "from datetime import datetime"
   ]
  },
  {
   "cell_type": "code",
   "execution_count": 247,
   "metadata": {},
   "outputs": [],
   "source": [
    "def returnValue(val):\n",
    "    return val.group(1) if  val else None"
   ]
  },
  {
   "cell_type": "code",
   "execution_count": 248,
   "metadata": {},
   "outputs": [],
   "source": [
    "def isPredictMsg(msg):\n",
    "\n",
    "    patterns = [\n",
    "        r\"Symbol: (.+)\",\n",
    "        r\"Position: (.+)\",\n",
    "        r\"Leverage: (.+)\",\n",
    "        r\"Market: (.+)\",\n",
    "        r\"StopLoss: (.+)\"\n",
    "    ]\n",
    "\n",
    "    # Check if all patterns have a value\n",
    "    return all(re.search(pattern, msg) for pattern in patterns)"
   ]
  },
  {
   "cell_type": "code",
   "execution_count": 249,
   "metadata": {},
   "outputs": [],
   "source": [
    "def findPosition(msg):\n",
    "    if msg.find(\"📈\") != -1:\n",
    "        return \"LONG\"\n",
    "    elif msg.find(\"📉\") != -1:\n",
    "        return \"SHORT\"\n",
    "    return None\n",
    "    \n",
    "    "
   ]
  },
  {
   "cell_type": "code",
   "execution_count": 250,
   "metadata": {},
   "outputs": [
    {
     "data": {
      "text/plain": [
       "{'symbol': 'LDO-USDT',\n",
       " 'position': 'LONG',\n",
       " 'market': 'FUTURES',\n",
       " 'leverage': '20',\n",
       " 'stopLoss': 2.82735,\n",
       " 'entry Targets': {'Target 1': '3.1415'},\n",
       " 'take-Profit Targets': {'Target 1': '3.2056',\n",
       "  'Target 2': '3.2387',\n",
       "  'Target 3': '3.2724',\n",
       "  'Target 4': '3.3068'}}"
      ]
     },
     "execution_count": 250,
     "metadata": {},
     "output_type": "execute_result"
    }
   ],
   "source": [
    "msg = {\n",
    "    \"id\": 8445,\n",
    "    \"date\": \"2023-12-01T15:25:59+00:00\",\n",
    "    \"reply_to_msg_id\": None,\n",
    "    \"message\": \"🔥 #CHR/USDT (Short📉, x20) 🔥\\n\\nEntry - 0.2312\\nTake-Profit:\\n\\n 0.2267 (40% of profit)\\n🥈 0.2245 (60% of profit)\\n🥇 3.2724 (80% of profit)\\n🚀 3.3068 (100% of profit)\\n@DigiLe@persianeliteorg\",\n",
    "    \"edit_date\": None,\n",
    "    \"media\": None,\n",
    "}\n",
    "\n",
    "string = msg[\"message\"]\n",
    "\n",
    "# print(string)\n",
    "symbol_match = string[string.find(\"#\") + 1 : string.find(\"/USDT\")].strip() + \"-USDT\"\n",
    "position_match = findPosition(string)\n",
    "leverage_match = re.search(r\"x(\\d+)\", string)\n",
    "market_match = \"FUTURES\"\n",
    "entry_match = re.search(r\"Entry - (.+)\", string)\n",
    "stopLoss_match = float(returnValue(entry_match)) * 0.9\n",
    "\n",
    "\n",
    "profit_values = re.findall(r\"([\\d.]+)\\s*\\(\", string)\n",
    "\n",
    "\n",
    "# Creating a dictionary\n",
    "data = {\n",
    "    \"symbol\": symbol_match,\n",
    "    \"position\": position_match,\n",
    "    \"market\": market_match,\n",
    "    \"leverage\": returnValue(leverage_match),\n",
    "    \"stopLoss\": stopLoss_match,\n",
    "    \"entry Targets\": {\"Target 1\": returnValue(entry_match)},\n",
    "    \"take-Profit Targets\": {\n",
    "        f\"Target {i+1}\": value for i, value in enumerate(profit_values)\n",
    "    }\n",
    "    if profit_values\n",
    "    else None,\n",
    "}\n",
    "\n",
    "data\n",
    "# print(data)"
   ]
  },
  {
   "cell_type": "code",
   "execution_count": 251,
   "metadata": {},
   "outputs": [],
   "source": [
    "def isEntry(msg, value, symbol):\n",
    "    entry_price = returnValue(re.search(r\"Entry Price: (.+)\", msg))\n",
    "    # for control \"average entry\"\n",
    "    if entry_price:\n",
    "        entry_price = float(re.findall(r\"\\d+\\.\\d+\", entry_price)[0])\n",
    "        bigger_number = max(entry_price, float(value))\n",
    "        smaller_number = min(entry_price, float(value))\n",
    "\n",
    "        error = 100 * (1 - (smaller_number / bigger_number)) > 1\n",
    "        if error:\n",
    "            return False\n",
    "    else:\n",
    "        return False\n",
    "\n",
    "    patterns = [\n",
    "        r\"Entry(.+)\",\n",
    "        rf\"{symbol}\",\n",
    "\n",
    "    ]\n",
    "\n",
    "    # Check if all patterns have a value\n",
    "\n",
    "    return all(re.search(pattern, msg) for pattern in patterns)"
   ]
  },
  {
   "cell_type": "code",
   "execution_count": 252,
   "metadata": {},
   "outputs": [],
   "source": [
    "def isTakeProfit(msg, symbol, index):\n",
    "   \n",
    "\n",
    "    patterns = [\n",
    "        r\"Take-Profit(.+)\",\n",
    "        r\"Profit(.+)\",\n",
    "        rf\"target {index}\",\n",
    "        rf\"{symbol}\",\n",
    "    ]\n",
    "\n",
    "    # Check if all patterns have a value\n",
    "    return all(re.search(pattern, msg) for pattern in patterns)"
   ]
  },
  {
   "cell_type": "code",
   "execution_count": 253,
   "metadata": {},
   "outputs": [
    {
     "name": "stdout",
     "output_type": "stream",
     "text": [
      "Floats before '(':  ['3.2056', '3.2387', '3.2724', '3.3068']\n",
      "Floats after 'Take-Profit:':  []\n"
     ]
    }
   ],
   "source": [
    "input_str = \"🔥 #LDO/USDT (Long📈, x20) 🔥\\n\\nEntry - 3.1415\\nTake-Profit:\\n\\n🥉 3.2056 (40% of profit)\\n🥈 3.2387 (60% of profit)\\n🥇 3.2724 (80% of profit)\\n🚀 3.3068 (100% of profit)\\n@DigiLe@persianeliteorg\"\n",
    "\n",
    "# Find all float numbers before \"(\"\n",
    "floats_before_parentheses = re.findall(r\"([\\d.]+)\\s*\\(\", input_str)\n",
    "\n",
    "# Find all float numbers after \"Take-Profit:\"\n",
    "floats_after_take_profit = re.findall(r\"Take-Profit:\\s*([\\d.]+)\", input_str)\n",
    "\n",
    "print(\"Floats before '(': \", floats_before_parentheses)\n",
    "print(\"Floats after 'Take-Profit:': \", floats_after_take_profit)"
   ]
  },
  {
   "cell_type": "code",
   "execution_count": 81,
   "metadata": {},
   "outputs": [
    {
     "name": "stdout",
     "output_type": "stream",
     "text": [
      "200\n"
     ]
    }
   ],
   "source": [
    "def sizeAmount(price):\n",
    "    prices = [\n",
    "        { 'price':0.01, 'size':2000 },\n",
    "        { 'price':0.1, 'size':200 },\n",
    "        { 'price':1, 'size':20 },\n",
    "        { 'price':5, 'size':2 },\n",
    "        ]\n",
    "    \n",
    "    length = len(prices) - 1\n",
    "    for i in range(len(prices)):\n",
    "        if i == length: return prices[0][\"size\"]\n",
    "        if prices[i][\"price\"] <= price < prices[i+1][\"price\"]:\n",
    "            size = prices[i+1][\"size\"]\n",
    "            return size if size is not None else prices[i][\"size\"]\n",
    "        \n"
   ]
  }
 ],
 "metadata": {
  "kernelspec": {
   "display_name": "Python 3",
   "language": "python",
   "name": "python3"
  },
  "language_info": {
   "codemirror_mode": {
    "name": "ipython",
    "version": 3
   },
   "file_extension": ".py",
   "mimetype": "text/x-python",
   "name": "python",
   "nbconvert_exporter": "python",
   "pygments_lexer": "ipython3",
   "version": "3.9.6"
  }
 },
 "nbformat": 4,
 "nbformat_minor": 2
}
