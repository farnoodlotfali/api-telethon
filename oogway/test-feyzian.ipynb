{
 "cells": [
  {
   "cell_type": "code",
   "execution_count": 73,
   "metadata": {},
   "outputs": [],
   "source": [
    "import re\n",
    "from itertools import groupby\n",
    "from datetime import datetime"
   ]
  },
  {
   "cell_type": "code",
   "execution_count": 74,
   "metadata": {},
   "outputs": [],
   "source": [
    "def returnValue(val):\n",
    "    return val.group(1) if val else None"
   ]
  },
  {
   "cell_type": "code",
   "execution_count": 75,
   "metadata": {},
   "outputs": [],
   "source": [
    "def isPredictMsg(msg):\n",
    "    patterns = [\n",
    "        r\"Symbol: (.+)\",\n",
    "        r\"Position: (.+)\",\n",
    "        r\"Leverage: (.+)\",\n",
    "        r\"Market: (.+)\",\n",
    "        r\"StopLoss: (.+)\",\n",
    "    ]\n",
    "\n",
    "    # Check if all patterns have a value\n",
    "    return all(re.search(pattern, msg) for pattern in patterns)"
   ]
  },
  {
   "cell_type": "code",
   "execution_count": 76,
   "metadata": {},
   "outputs": [],
   "source": [
    "def findPosition(msg):\n",
    "    pos = None\n",
    "    if \"short\" in msg.lower():\n",
    "        pos = \"SHORT\"\n",
    "    elif \"long\" in msg.lower():\n",
    "        pos = \"LONG\"\n",
    "\n",
    "    return pos"
   ]
  },
  {
   "cell_type": "code",
   "execution_count": 77,
   "metadata": {},
   "outputs": [],
   "source": [
    "def findMarket(msg):\n",
    "    market = None\n",
    "    if \"Futures Call\".lower() in msg.lower():\n",
    "        market = \"FUTURES\"\n",
    "    elif \"Spot\".lower() in msg.lower():\n",
    "        market = \"SPOT\"\n",
    "\n",
    "    return market"
   ]
  },
  {
   "cell_type": "code",
   "execution_count": 78,
   "metadata": {},
   "outputs": [
    {
     "data": {
      "text/plain": [
       "{'Symbol': 'TIA'}"
      ]
     },
     "execution_count": 78,
     "metadata": {},
     "output_type": "execute_result"
    }
   ],
   "source": [
    "msg = {\n",
    "    \"id\": 3084,\n",
    "    \"date\": \"2023-12-19T12:49:50+00:00\",\n",
    "    \"reply_to_msg_id\": None,\n",
    "    \"message\": \"Symbol: #AVAX/USDT\\nMarket: FUTURES\\nPosition: LONG\\nLeverage: Isolated 3x\\n\\nEntry Targets: \\n1) 11.80\\n2) 11.502\\n\\nTake-Profit Targets: \\n1) 12.025\\n2) 12.281\\n3) 12.564\\n4) 12.950\\n\\nStopLoss: 11.19\\nB.Z\",    \"edit_date\": None,\n",
    "    \"media\": None,\n",
    "}\n",
    "\n",
    "msg = {\n",
    "    \"id\": 3084,\n",
    "    \"date\": \"2023-12-19T12:49:50+00:00\",\n",
    "    \"reply_to_msg_id\": None,\n",
    "    \"message\": \"Symbol: #TIAUSDT.P\\nMarket: FUTURES\\nPosition: LONG\\nLeverage: Isolated 3x\\n\\nEntry Targets: \\n1) 11.80\\n2) 11.502\\n\\nTake-Profit Targets: \\n1) 12.025\\n2) 12.281\\n3) 12.564\\n4) 12.950\\n\\nStopLoss: 11.19\\nB.Z\",    \"edit_date\": None,\n",
    "    \"media\": None,\n",
    "}\n",
    "\n",
    "string = msg[\"message\"]\n",
    "# print(string)\n",
    "symbol_match = re.search(r\"Symbol: #(.+)\", string)\n",
    "symbol_match = (\n",
    "            returnValue(symbol_match).strip().split(\"USDT\")[0].replace(\"/\", \"\")\n",
    "        )\n",
    "\n",
    "\n",
    "symbol_value = await sync_to_async(Symbol.objects.get)(asset=symbol_match)\n",
    "# Creating a dictionary\n",
    "data = {\n",
    "    \"Symbol\": symbol_match,\n",
    "   \n",
    "    \n",
    "}\n",
    "data\n",
    "# print(data)"
   ]
  }
 ],
 "metadata": {
  "kernelspec": {
   "display_name": "Python 3",
   "language": "python",
   "name": "python3"
  },
  "language_info": {
   "codemirror_mode": {
    "name": "ipython",
    "version": 3
   },
   "file_extension": ".py",
   "mimetype": "text/x-python",
   "name": "python",
   "nbconvert_exporter": "python",
   "pygments_lexer": "ipython3",
   "version": "3.9.6"
  }
 },
 "nbformat": 4,
 "nbformat_minor": 2
}
