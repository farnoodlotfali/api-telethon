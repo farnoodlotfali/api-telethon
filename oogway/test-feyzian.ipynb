{
 "cells": [
  {
   "cell_type": "code",
   "execution_count": 574,
   "metadata": {},
   "outputs": [],
   "source": [
    "import re\n",
    "from itertools import groupby\n",
    "from datetime import datetime\n",
    "from asgiref.sync import sync_to_async\n",
    "import django\n",
    "import os\n",
    "os.environ.setdefault('DJANGO_SETTINGS_MODULE', 'oogway.settings')\n",
    "django.setup()\n",
    "from PostAnalyzer.models import (\n",
    "    Market,\n",
    "    Symbol,\n",
    "    PositionSide,\n",
    "    MarginMode,\n",
    "    EntryTarget\n",
    ")"
   ]
  },
  {
   "cell_type": "code",
   "execution_count": 575,
   "metadata": {},
   "outputs": [],
   "source": [
    "def returnValue(val):\n",
    "    return val.group(1) if val else None"
   ]
  },
  {
   "cell_type": "code",
   "execution_count": 576,
   "metadata": {},
   "outputs": [],
   "source": [
    "def isPredictMsg(msg):\n",
    "    patterns = [\n",
    "        r\"Symbol:\\s*#?([A-Z]+)[/\\s]?USDT\",\n",
    "        r\"Take-Profit Targets:([\\s\\S]+?)(StopLoss|Description)\",\n",
    "        r\"Entry Targets:([\\s\\S]+?)Take-Profit\",\n",
    "        r\"Market:\\s*([A-Z]+)\",\n",
    "        r\"(StopLoss|Description):\\s*([\\d.]|\\w+)\",\n",
    "    ]\n",
    "\n",
    "    # Check if all patterns have a value\n",
    "    return all(re.search(pattern, msg, re.IGNORECASE) for pattern in patterns)"
   ]
  },
  {
   "cell_type": "code",
   "execution_count": 577,
   "metadata": {},
   "outputs": [],
   "source": [
    "async def findPosition(msg):\n",
    "    position_match = re.search(r\"Position:\\s*([A-Z]+)\", msg)\n",
    "    \n",
    "    try:\n",
    "        position_value = await sync_to_async(PositionSide.objects.get)(name=returnValue(position_match).upper())\n",
    "        return position_value\n",
    "    except:\n",
    "        return None"
   ]
  },
  {
   "cell_type": "code",
   "execution_count": 578,
   "metadata": {},
   "outputs": [],
   "source": [
    "async def findMarket(msg):\n",
    "    market_match = re.search(r\"Market:\\s*([A-Z]+)\", msg, re.IGNORECASE)\n",
    "    \n",
    "    try:\n",
    "        market_value = await sync_to_async(Market.objects.get)(name=returnValue(market_match).upper())\n",
    "        return market_value\n",
    "    except:\n",
    "        return None\n"
   ]
  },
  {
   "cell_type": "code",
   "execution_count": 579,
   "metadata": {},
   "outputs": [],
   "source": [
    "async def findLeverage(msg):\n",
    "    leverage_match = re.search(r\"Leverage:\\s*(Isolated|Cross)\\s*(\\d+x)\", msg, re.IGNORECASE)\n",
    "    if leverage_match:\n",
    "        leverage_type = await sync_to_async(MarginMode.objects.get)(name=returnValue(leverage_match).upper())   \n",
    "        leverage_value = int(leverage_match.group(2).lower().replace(\"x\",\"\"))    \n",
    "    else:\n",
    "        leverage_type = None\n",
    "        leverage_value = None\n",
    "    \n",
    "    return leverage_type, leverage_value"
   ]
  },
  {
   "cell_type": "code",
   "execution_count": 580,
   "metadata": {},
   "outputs": [],
   "source": [
    "def findStopLoss(msg):\n",
    "   return returnValue(re.search(r\"StopLoss:\\s*([\\d.]+)\", msg))"
   ]
  },
  {
   "cell_type": "code",
   "execution_count": 581,
   "metadata": {},
   "outputs": [],
   "source": [
    "def findEntryTargets(msg):\n",
    "    match = re.search(r\"Entry Targets:([\\s\\S]+?)Take-Profit\", msg, re.IGNORECASE)\n",
    "    if match:\n",
    "        extracted_data = returnValue(match)\n",
    "        return [float(x.strip()) for i, x in enumerate(re.findall(r\"(\\d+\\.\\d+|\\d+)\", extracted_data))  if i % 2 == 1]\n",
    "        "
   ]
  },
  {
   "cell_type": "code",
   "execution_count": 582,
   "metadata": {},
   "outputs": [],
   "source": [
    "def findTakeProfits(msg):\n",
    "    match = re.search(r\"Take-Profit Targets:([\\s\\S]+?)(StopLoss|Description)\", msg, re.IGNORECASE)\n",
    "    if match:\n",
    "        extracted_data = returnValue(match)\n",
    "        return [float(x.strip()) for i, x in enumerate(re.findall(r\"(\\d+\\.\\d+|\\d+)\", extracted_data)) if i % 2 == 1]\n",
    "        "
   ]
  },
  {
   "cell_type": "code",
   "execution_count": 583,
   "metadata": {},
   "outputs": [],
   "source": [
    "async def findSymbol(msg):\n",
    "    symbol_match = re.search(r\"Symbol:\\s*#?([A-Z]+)[/\\s]?USDT\", msg, re.IGNORECASE)\n",
    "    \n",
    "    try:\n",
    "        symbol_value = await sync_to_async(Symbol.objects.get)(asset=returnValue(symbol_match))\n",
    "        return symbol_value\n",
    "    except:\n",
    "        return None"
   ]
  },
  {
   "cell_type": "code",
   "execution_count": 584,
   "metadata": {},
   "outputs": [],
   "source": [
    "async def findSymbol(msg):\n",
    "    symbol_match = re.search(r\"Symbol:\\s*#?([A-Z]+)[/\\s]?USDT\", msg, re.IGNORECASE)\n",
    "    \n",
    "    try:\n",
    "        symbol_value = await sync_to_async(Symbol.objects.get)(asset=returnValue(symbol_match))\n",
    "        return symbol_value\n",
    "    except:\n",
    "        return None"
   ]
  },
  {
   "cell_type": "code",
   "execution_count": 587,
   "metadata": {},
   "outputs": [
    {
     "name": "stdout",
     "output_type": "stream",
     "text": [
      "True\n",
      "BTC-USDT\n",
      "FUTURES\n",
      "LONG\n",
      "ISOLATED <class 'int'>\n",
      "29010\n",
      "[30000.54, 32000.43, 33000.0]\n",
      "[30010.66, 30016.0, 30019.0, 30040.0]\n"
     ]
    }
   ],
   "source": [
    "msg = {\n",
    "    \"id\": 3084,\n",
    "    \"date\": \"2023-12-19T12:49:50+00:00\",\n",
    "    \"reply_to_msg_id\": None,\n",
    "    \"message\": \"Symbol: #AVAX/USDT\\nMarket: FUTURES\\nPosition: LONG\\nLeverage: Isolated 3x\\n\\nEntry Targets: \\n1) 11.80\\n2) 11.502\\n\\nTake-Profit Targets: \\n1) 12.025\\n2) 12.281\\n3) 12.564\\n4) 12.950\\n\\nStopLoss: 11.19\\nB.Z\",    \"edit_date\": None,\n",
    "    \"media\": None,\n",
    "}\n",
    "\n",
    "msg1 = {\n",
    "    \"id\": 3084,\n",
    "    \"date\": \"2023-12-19T12:49:50+00:00\",\n",
    "    \"reply_to_msg_id\": None,\n",
    "    \"message\": \"Symbol: #FILUSDT.P\\nMarket: FUTURES\\nPosition: SHORT\\nLeverage: Isolated 4x\\n\\nEntry Targets: \\n1) 5.430\\n2) 5.212\\n\\nTake-Profit Targets: \\n1) 5.517\\n2) 5.608\\n3) 5.715\\n4) 5.823\\n5) 5.982\\n\\nStopLoss: 5.154\\nB.Z\",    \n",
    "    \"edit_date\": None,\n",
    "    \"media\": None,\n",
    "}\n",
    "\n",
    "msg3 = {\n",
    "    \"id\": 3084,\n",
    "    \"date\": \"2023-12-19T12:49:50+00:00\",\n",
    "    \"reply_to_msg_id\": None,\n",
    "    \"message\": \"Symbol: #BTC/USDT Market: FUTURES Position: LONG Leverage: Isolated 6x Entry Targets: 1) 30000.54 2) 32000.43 3) 33000. Take-Profit Targets: 1) 30010.66 2) 30016 3) 30019 4) 30040 StopLoss: 29010 B.Z #test\",    \n",
    "    \"edit_date\": None,\n",
    "    \"media\": None,\n",
    "}\n",
    "\n",
    "# spot\n",
    "msg2 = {\n",
    "    \"id\": 3084,\n",
    "    \"date\": \"2023-12-19T12:49:50+00:00\",\n",
    "    \"reply_to_msg_id\": None,\n",
    "    \"message\": \"Symbol: #ETH/USDT\\nMarket: SPOT\\n\\nEntry Targets: \\n1) 2930.00\\n2) 2870.00\\n\\nTake-Profit Targets: \\n1) 3100.00\\n2) 3200.00\\n\\n\\nDescription: HOLD MODE\\nمیان مدت\\nB.Z\",    \n",
    "    \"edit_date\": None,\n",
    "    \"media\": None,\n",
    "}\n",
    "\n",
    "string = msg3[\"message\"]\n",
    "\n",
    "# ************* FIND IS PREDICT *************\n",
    "isPredict = isPredictMsg(string)\n",
    "print(isPredict)\n",
    "\n",
    "\n",
    "# ************* FIND SYMBOL *************\n",
    "# method 1\n",
    "# symbol_match = re.search(r\"Symbol:(.+)\", string)\n",
    "# symbol_match = returnValue(symbol_match).split(\"USDT\")[0].replace(\"/\", \"\").replace(\" \", \"\").replace(\"#\", \"\")\n",
    " \n",
    "# method 2\n",
    "symbol = await findSymbol(string)\n",
    "print(symbol)\n",
    "\n",
    "\n",
    "# ************* FIND MARKET *************\n",
    "market = await findMarket(string)\n",
    "print(market.name)\n",
    "\n",
    "if market.name != \"SPOT\":\n",
    "    # ************* FIND POSITION *************\n",
    "    position = await findPosition(string)\n",
    "    print(position.name)\n",
    "\n",
    "    # ************* FIND LEVERAGE *************\n",
    "    marginMode, leverage = await findLeverage(string)\n",
    "    print(marginMode.name, leverage)\n",
    "\n",
    "\n",
    "# ************* FIND STOP LOSS *************\n",
    "stopLoss = findStopLoss(string)\n",
    "print(stopLoss)\n",
    "\n",
    "# ************* FIND ENTRY TARGETS *************\n",
    "entries = findEntryTargets(string)\n",
    "print(entries)\n",
    " \n",
    "# ************* FIND TAKE PROFITS *************\n",
    "profits = findTakeProfits(string)\n",
    "print(profits)"
   ]
  }
 ],
 "metadata": {
  "kernelspec": {
   "display_name": "Python 3",
   "language": "python",
   "name": "python3"
  },
  "language_info": {
   "codemirror_mode": {
    "name": "ipython",
    "version": 3
   },
   "file_extension": ".py",
   "mimetype": "text/x-python",
   "name": "python",
   "nbconvert_exporter": "python",
   "pygments_lexer": "ipython3",
   "version": "3.9.6"
  }
 },
 "nbformat": 4,
 "nbformat_minor": 2
}
